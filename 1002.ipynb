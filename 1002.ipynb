{
  "nbformat": 4,
  "nbformat_minor": 0,
  "metadata": {
    "kernelspec": {
      "name": "python3",
      "display_name": "Python 3"
    },
    "language_info": {
      "codemirror_mode": {
        "name": "ipython",
        "version": 3
      },
      "file_extension": ".py",
      "mimetype": "text/x-python",
      "name": "python",
      "nbconvert_exporter": "python",
      "pygments_lexer": "ipython3",
      "version": "3.7.1"
    },
    "colab": {
      "name": "Untitled.ipynb",
      "provenance": []
    },
    "accelerator": "TPU"
  },
  "cells": [
    {
      "cell_type": "code",
      "metadata": {
        "id": "RxljcgShVAiH",
        "colab_type": "code",
        "colab": {}
      },
      "source": [
        "%matplotlib inline\n",
        "import numpy as np\n",
        "import matplotlib.pyplot as plt\n",
        "import pandas as pd"
      ],
      "execution_count": 0,
      "outputs": []
    },
    {
      "cell_type": "code",
      "metadata": {
        "id": "9XwLIZHHVAiL",
        "colab_type": "code",
        "outputId": "8977b9aa-8790-4391-d171-9bcf9cd94bea",
        "colab": {
          "base_uri": "https://localhost:8080/",
          "height": 34
        }
      },
      "source": [
        "from keras.datasets import mnist"
      ],
      "execution_count": 0,
      "outputs": [
        {
          "output_type": "stream",
          "text": [
            "Using TensorFlow backend.\n"
          ],
          "name": "stderr"
        }
      ]
    },
    {
      "cell_type": "code",
      "metadata": {
        "id": "gLaeiFGqVAiQ",
        "colab_type": "code",
        "outputId": "8af8bb14-f03d-4355-ac2c-5ce1f6bf1d52",
        "colab": {
          "base_uri": "https://localhost:8080/",
          "height": 51
        }
      },
      "source": [
        "(x_train, y_train),(x_test, y_test) = mnist.load_data()"
      ],
      "execution_count": 0,
      "outputs": [
        {
          "output_type": "stream",
          "text": [
            "Downloading data from https://s3.amazonaws.com/img-datasets/mnist.npz\n",
            "11493376/11490434 [==============================] - 0s 0us/step\n"
          ],
          "name": "stdout"
        }
      ]
    },
    {
      "cell_type": "code",
      "metadata": {
        "id": "Kg302svXVAiS",
        "colab_type": "code",
        "outputId": "fc88d401-8c09-4f8e-ec38-53b7ce620e84",
        "colab": {
          "base_uri": "https://localhost:8080/",
          "height": 34
        }
      },
      "source": [
        "len(x_test)"
      ],
      "execution_count": 0,
      "outputs": [
        {
          "output_type": "execute_result",
          "data": {
            "text/plain": [
              "10000"
            ]
          },
          "metadata": {
            "tags": []
          },
          "execution_count": 4
        }
      ]
    },
    {
      "cell_type": "code",
      "metadata": {
        "scrolled": true,
        "id": "JV82cN-4VAiW",
        "colab_type": "code",
        "outputId": "37ecabbe-aa3d-42e0-e7bc-deea91faa429",
        "colab": {
          "base_uri": "https://localhost:8080/",
          "height": 286
        }
      },
      "source": [
        "X = x_train[3000]\n",
        "plt.imshow(X)"
      ],
      "execution_count": 0,
      "outputs": [
        {
          "output_type": "execute_result",
          "data": {
            "text/plain": [
              "<matplotlib.image.AxesImage at 0x7f6bf4dad748>"
            ]
          },
          "metadata": {
            "tags": []
          },
          "execution_count": 5
        },
        {
          "output_type": "display_data",
          "data": {
            "image/png": "[encoded data removed]",
            "text/plain": [
              "<Figure size 432x288 with 1 Axes>"
            ]
          },
          "metadata": {
            "tags": []
          }
        }
      ]
    },
    {
      "cell_type": "code",
      "metadata": {
        "id": "XY4i_WWhVAiY",
        "colab_type": "code",
        "colab": {}
      },
      "source": [
        "x_train = x_train/255\n",
        "x_test = x_test/255"
      ],
      "execution_count": 0,
      "outputs": []
    },
    {
      "cell_type": "code",
      "metadata": {
        "id": "bxNYz1DJVAib",
        "colab_type": "code",
        "colab": {}
      },
      "source": [
        "from keras.utils import np_utils"
      ],
      "execution_count": 0,
      "outputs": []
    },
    {
      "cell_type": "code",
      "metadata": {
        "id": "xcHQkP3wVAid",
        "colab_type": "code",
        "colab": {}
      },
      "source": [
        "y_train = np_utils.to_categorical(y_train, 10)\n",
        "y_test = np_utils.to_categorical(y_test, 10)"
      ],
      "execution_count": 0,
      "outputs": []
    },
    {
      "cell_type": "code",
      "metadata": {
        "id": "e7VYg-blVAig",
        "colab_type": "code",
        "colab": {}
      },
      "source": [
        "from keras.models import Sequential\n",
        "from keras.layers import Dense, Flatten\n",
        "from keras.optimizers import SGD"
      ],
      "execution_count": 0,
      "outputs": []
    },
    {
      "cell_type": "code",
      "metadata": {
        "id": "j75_4dWiVAij",
        "colab_type": "code",
        "outputId": "205925c4-b40a-4ad5-dc7c-c795a5612b0a",
        "colab": {
          "base_uri": "https://localhost:8080/",
          "height": 71
        }
      },
      "source": [
        "model = Sequential()"
      ],
      "execution_count": 0,
      "outputs": [
        {
          "output_type": "stream",
          "text": [
            "WARNING:tensorflow:From /usr/local/lib/python3.6/dist-packages/keras/backend/tensorflow_backend.py:66: The name tf.get_default_graph is deprecated. Please use tf.compat.v1.get_default_graph instead.\n",
            "\n"
          ],
          "name": "stdout"
        }
      ]
    },
    {
      "cell_type": "code",
      "metadata": {
        "id": "WqhPu1PkVAin",
        "colab_type": "code",
        "outputId": "3974134d-89c8-4b1c-f800-e5b7131aba3c",
        "colab": {
          "base_uri": "https://localhost:8080/",
          "height": 71
        }
      },
      "source": [
        "model.add(Flatten(input_shape = (28,28)))"
      ],
      "execution_count": 0,
      "outputs": [
        {
          "output_type": "stream",
          "text": [
            "WARNING:tensorflow:From /usr/local/lib/python3.6/dist-packages/keras/backend/tensorflow_backend.py:541: The name tf.placeholder is deprecated. Please use tf.compat.v1.placeholder instead.\n",
            "\n"
          ],
          "name": "stdout"
        }
      ]
    },
    {
      "cell_type": "code",
      "metadata": {
        "id": "JKKFKFXHVAip",
        "colab_type": "code",
        "outputId": "8e6d5e28-c246-4fd4-a390-275b6dab3ee2",
        "colab": {
          "base_uri": "https://localhost:8080/",
          "height": 71
        }
      },
      "source": [
        "model.add(Dense(50, activation = 'relu'))"
      ],
      "execution_count": 0,
      "outputs": [
        {
          "output_type": "stream",
          "text": [
            "WARNING:tensorflow:From /usr/local/lib/python3.6/dist-packages/keras/backend/tensorflow_backend.py:4432: The name tf.random_uniform is deprecated. Please use tf.random.uniform instead.\n",
            "\n"
          ],
          "name": "stdout"
        }
      ]
    },
    {
      "cell_type": "code",
      "metadata": {
        "id": "33S2HXsHVAir",
        "colab_type": "code",
        "colab": {}
      },
      "source": [
        "model.add(Dense(58, activation = 'relu'))"
      ],
      "execution_count": 0,
      "outputs": []
    },
    {
      "cell_type": "code",
      "metadata": {
        "id": "SWRs4uIJVAiv",
        "colab_type": "code",
        "colab": {}
      },
      "source": [
        "model.add(Dense(50, activation = 'relu'))\n",
        "model.add(Dense(50, activation = 'relu'))\n",
        "model.add(Dense(10, activation = 'softmax'))"
      ],
      "execution_count": 0,
      "outputs": []
    },
    {
      "cell_type": "code",
      "metadata": {
        "id": "qkc03P-NVAiy",
        "colab_type": "code",
        "outputId": "f4f99afb-4bce-4841-fa9b-b32b95477beb",
        "colab": {
          "base_uri": "https://localhost:8080/",
          "height": 71
        }
      },
      "source": [
        "model.compile(loss='mse',optimizer=SGD(lr=0.09),metrics=['accuracy'])"
      ],
      "execution_count": 0,
      "outputs": [
        {
          "output_type": "stream",
          "text": [
            "WARNING:tensorflow:From /usr/local/lib/python3.6/dist-packages/keras/optimizers.py:793: The name tf.train.Optimizer is deprecated. Please use tf.compat.v1.train.Optimizer instead.\n",
            "\n"
          ],
          "name": "stdout"
        }
      ]
    },
    {
      "cell_type": "code",
      "metadata": {
        "id": "vp2AQznNVAi1",
        "colab_type": "code",
        "outputId": "4b96e78d-9dd0-4c18-f5a8-1ab45ae8093b",
        "colab": {
          "base_uri": "https://localhost:8080/",
          "height": 357
        }
      },
      "source": [
        "model.summary()"
      ],
      "execution_count": 0,
      "outputs": [
        {
          "output_type": "stream",
          "text": [
            "Model: \"sequential_1\"\n",
            "_________________________________________________________________\n",
            "Layer (type)                 Output Shape              Param #   \n",
            "=================================================================\n",
            "flatten_1 (Flatten)          (None, 784)               0         \n",
            "_________________________________________________________________\n",
            "dense_1 (Dense)              (None, 50)                39250     \n",
            "_________________________________________________________________\n",
            "dense_2 (Dense)              (None, 58)                2958      \n",
            "_________________________________________________________________\n",
            "dense_3 (Dense)              (None, 50)                2950      \n",
            "_________________________________________________________________\n",
            "dense_4 (Dense)              (None, 50)                2550      \n",
            "_________________________________________________________________\n",
            "dense_5 (Dense)              (None, 10)                510       \n",
            "=================================================================\n",
            "Total params: 48,218\n",
            "Trainable params: 48,218\n",
            "Non-trainable params: 0\n",
            "_________________________________________________________________\n"
          ],
          "name": "stdout"
        }
      ]
    },
    {
      "cell_type": "code",
      "metadata": {
        "scrolled": false,
        "id": "gBol5sJjVAi5",
        "colab_type": "code",
        "outputId": "248ebe61-2aba-4e46-d6ee-449debc235d4",
        "colab": {
          "base_uri": "https://localhost:8080/",
          "height": 1000
        }
      },
      "source": [
        "model.fit(x_train,y_train,batch_size=100, epochs=50)"
      ],
      "execution_count": 0,
      "outputs": [
        {
          "output_type": "stream",
          "text": [
            "Epoch 1/50\n",
            "60000/60000 [==============================] - 2s 26us/step - loss: 0.0040 - acc: 0.9768\n",
            "Epoch 2/50\n",
            "60000/60000 [==============================] - 2s 27us/step - loss: 0.0040 - acc: 0.9771\n",
            "Epoch 3/50\n",
            "60000/60000 [==============================] - 2s 27us/step - loss: 0.0040 - acc: 0.9775\n",
            "Epoch 4/50\n",
            "60000/60000 [==============================] - 2s 27us/step - loss: 0.0039 - acc: 0.9778\n",
            "Epoch 5/50\n",
            "60000/60000 [==============================] - 2s 27us/step - loss: 0.0039 - acc: 0.9780\n",
            "Epoch 6/50\n",
            "60000/60000 [==============================] - 2s 26us/step - loss: 0.0038 - acc: 0.9779\n",
            "Epoch 7/50\n",
            "60000/60000 [==============================] - 2s 26us/step - loss: 0.0038 - acc: 0.9784\n",
            "Epoch 8/50\n",
            "60000/60000 [==============================] - 2s 27us/step - loss: 0.0038 - acc: 0.9787\n",
            "Epoch 9/50\n",
            "60000/60000 [==============================] - 2s 27us/step - loss: 0.0037 - acc: 0.9790\n",
            "Epoch 10/50\n",
            "60000/60000 [==============================] - 2s 27us/step - loss: 0.0037 - acc: 0.9790\n",
            "Epoch 11/50\n",
            "60000/60000 [==============================] - 2s 27us/step - loss: 0.0037 - acc: 0.9790\n",
            "Epoch 12/50\n",
            "60000/60000 [==============================] - 2s 26us/step - loss: 0.0036 - acc: 0.9797\n",
            "Epoch 13/50\n",
            "60000/60000 [==============================] - 2s 27us/step - loss: 0.0036 - acc: 0.9795\n",
            "Epoch 14/50\n",
            "60000/60000 [==============================] - 2s 27us/step - loss: 0.0036 - acc: 0.9798\n",
            "Epoch 15/50\n",
            "60000/60000 [==============================] - 2s 29us/step - loss: 0.0035 - acc: 0.9798\n",
            "Epoch 16/50\n",
            "60000/60000 [==============================] - 2s 29us/step - loss: 0.0035 - acc: 0.9802\n",
            "Epoch 17/50\n",
            "60000/60000 [==============================] - 2s 29us/step - loss: 0.0035 - acc: 0.9808\n",
            "Epoch 18/50\n",
            "60000/60000 [==============================] - 2s 26us/step - loss: 0.0034 - acc: 0.9806\n",
            "Epoch 19/50\n",
            "60000/60000 [==============================] - 2s 27us/step - loss: 0.0034 - acc: 0.9807\n",
            "Epoch 20/50\n",
            "60000/60000 [==============================] - 2s 27us/step - loss: 0.0034 - acc: 0.9809\n",
            "Epoch 21/50\n",
            "60000/60000 [==============================] - 2s 26us/step - loss: 0.0033 - acc: 0.9812\n",
            "Epoch 22/50\n",
            "60000/60000 [==============================] - 2s 27us/step - loss: 0.0033 - acc: 0.9816\n",
            "Epoch 23/50\n",
            "60000/60000 [==============================] - 2s 27us/step - loss: 0.0033 - acc: 0.9817\n",
            "Epoch 24/50\n",
            "60000/60000 [==============================] - 2s 27us/step - loss: 0.0033 - acc: 0.9817\n",
            "Epoch 25/50\n",
            "60000/60000 [==============================] - 2s 26us/step - loss: 0.0032 - acc: 0.9820\n",
            "Epoch 26/50\n",
            "60000/60000 [==============================] - 2s 26us/step - loss: 0.0032 - acc: 0.9822\n",
            "Epoch 27/50\n",
            "60000/60000 [==============================] - 2s 27us/step - loss: 0.0032 - acc: 0.9823\n",
            "Epoch 28/50\n",
            "60000/60000 [==============================] - 2s 27us/step - loss: 0.0032 - acc: 0.9824\n",
            "Epoch 29/50\n",
            "60000/60000 [==============================] - 2s 26us/step - loss: 0.0031 - acc: 0.9825\n",
            "Epoch 30/50\n",
            "60000/60000 [==============================] - 2s 26us/step - loss: 0.0031 - acc: 0.9827\n",
            "Epoch 31/50\n",
            "60000/60000 [==============================] - 2s 26us/step - loss: 0.0031 - acc: 0.9829\n",
            "Epoch 32/50\n",
            "60000/60000 [==============================] - 2s 26us/step - loss: 0.0030 - acc: 0.9831\n",
            "Epoch 33/50\n",
            "60000/60000 [==============================] - 2s 26us/step - loss: 0.0030 - acc: 0.9835\n",
            "Epoch 34/50\n",
            "60000/60000 [==============================] - 2s 27us/step - loss: 0.0030 - acc: 0.9836\n",
            "Epoch 35/50\n",
            "60000/60000 [==============================] - 2s 27us/step - loss: 0.0030 - acc: 0.9838\n",
            "Epoch 36/50\n",
            "60000/60000 [==============================] - 2s 26us/step - loss: 0.0029 - acc: 0.9837\n",
            "Epoch 37/50\n",
            "60000/60000 [==============================] - 2s 26us/step - loss: 0.0029 - acc: 0.9841\n",
            "Epoch 38/50\n",
            "60000/60000 [==============================] - 2s 26us/step - loss: 0.0029 - acc: 0.9841\n",
            "Epoch 39/50\n",
            "60000/60000 [==============================] - 2s 26us/step - loss: 0.0029 - acc: 0.9844\n",
            "Epoch 40/50\n",
            "60000/60000 [==============================] - 2s 26us/step - loss: 0.0028 - acc: 0.9845\n",
            "Epoch 41/50\n",
            "60000/60000 [==============================] - 2s 26us/step - loss: 0.0028 - acc: 0.9847\n",
            "Epoch 42/50\n",
            "60000/60000 [==============================] - 2s 26us/step - loss: 0.0028 - acc: 0.9847\n",
            "Epoch 43/50\n",
            "60000/60000 [==============================] - 2s 27us/step - loss: 0.0028 - acc: 0.9848\n",
            "Epoch 44/50\n",
            "60000/60000 [==============================] - 2s 26us/step - loss: 0.0028 - acc: 0.9851\n",
            "Epoch 45/50\n",
            "60000/60000 [==============================] - 2s 26us/step - loss: 0.0027 - acc: 0.9851\n",
            "Epoch 46/50\n",
            "60000/60000 [==============================] - 2s 26us/step - loss: 0.0027 - acc: 0.9853\n",
            "Epoch 47/50\n",
            "60000/60000 [==============================] - 2s 27us/step - loss: 0.0027 - acc: 0.9856\n",
            "Epoch 48/50\n",
            "60000/60000 [==============================] - 2s 26us/step - loss: 0.0027 - acc: 0.9858\n",
            "Epoch 49/50\n",
            "60000/60000 [==============================] - 2s 27us/step - loss: 0.0026 - acc: 0.9859\n",
            "Epoch 50/50\n",
            "60000/60000 [==============================] - 2s 26us/step - loss: 0.0026 - acc: 0.9859\n"
          ],
          "name": "stdout"
        },
        {
          "output_type": "execute_result",
          "data": {
            "text/plain": [
              "<keras.callbacks.History at 0x7f6becb0a080>"
            ]
          },
          "metadata": {
            "tags": []
          },
          "execution_count": 19
        }
      ]
    },
    {
      "cell_type": "code",
      "metadata": {
        "id": "e4QoebG_VAi7",
        "colab_type": "code",
        "colab": {}
      },
      "source": [
        "predict = model.predict(x_test)"
      ],
      "execution_count": 0,
      "outputs": []
    },
    {
      "cell_type": "code",
      "metadata": {
        "id": "bWlq4Z2kWFRE",
        "colab_type": "code",
        "outputId": "376c0a9e-7a16-478a-ff0d-0e6b89f72dd6",
        "colab": {
          "base_uri": "https://localhost:8080/",
          "height": 68
        }
      },
      "source": [
        "predict[300]"
      ],
      "execution_count": 0,
      "outputs": [
        {
          "output_type": "execute_result",
          "data": {
            "text/plain": [
              "array([1.0352020e-06, 4.7922959e-03, 2.9418983e-03, 6.7793934e-07,\n",
              "       9.5387667e-01, 6.5191095e-08, 1.5966348e-02, 2.2393923e-02,\n",
              "       9.7432458e-06, 1.7377166e-05], dtype=float32)"
            ]
          },
          "metadata": {
            "tags": []
          },
          "execution_count": 21
        }
      ]
    },
    {
      "cell_type": "code",
      "metadata": {
        "id": "59jZGF5dWNF0",
        "colab_type": "code",
        "colab": {}
      },
      "source": [
        "predict = model.predict_classes(x_test)"
      ],
      "execution_count": 0,
      "outputs": []
    },
    {
      "cell_type": "code",
      "metadata": {
        "id": "1DCO1HW3XNuV",
        "colab_type": "code",
        "outputId": "f72282a6-a4a6-46fc-b41b-3904fae1ff2f",
        "colab": {
          "base_uri": "https://localhost:8080/",
          "height": 286
        }
      },
      "source": [
        "predict[300],plt.imshow(x_test[300])"
      ],
      "execution_count": 0,
      "outputs": [
        {
          "output_type": "execute_result",
          "data": {
            "text/plain": [
              "(4, <matplotlib.image.AxesImage at 0x7f6becb19278>)"
            ]
          },
          "metadata": {
            "tags": []
          },
          "execution_count": 26
        },
        {
          "output_type": "display_data",
          "data": {
            "image/png": "[encoded data removed]",
            "text/plain": [
              "<Figure size 432x288 with 1 Axes>"
            ]
          },
          "metadata": {
            "tags": []
          }
        }
      ]
    },
    {
      "cell_type": "code",
      "metadata": {
        "id": "iFvJY7QlXQAI",
        "colab_type": "code",
        "outputId": "36e6a35a-0966-4b02-c25c-1743465bee06",
        "colab": {
          "base_uri": "https://localhost:8080/",
          "height": 34
        }
      },
      "source": [
        "score = model.evaluate(x_test,y_test)"
      ],
      "execution_count": 0,
      "outputs": [
        {
          "output_type": "stream",
          "text": [
            "10000/10000 [==============================] - 0s 29us/step\n"
          ],
          "name": "stdout"
        }
      ]
    },
    {
      "cell_type": "code",
      "metadata": {
        "id": "Xy9LuIG5Xz6f",
        "colab_type": "code",
        "outputId": "d34457c0-4219-4497-bc2f-d4b78e1ba5e4",
        "colab": {
          "base_uri": "https://localhost:8080/",
          "height": 34
        }
      },
      "source": [
        "score[0],score[1]"
      ],
      "execution_count": 0,
      "outputs": [
        {
          "output_type": "execute_result",
          "data": {
            "text/plain": [
              "(0.005321170132368951, 0.9663)"
            ]
          },
          "metadata": {
            "tags": []
          },
          "execution_count": 33
        }
      ]
    },
    {
      "cell_type": "code",
      "metadata": {
        "id": "eWnKcy5tX3pI",
        "colab_type": "code",
        "colab": {}
      },
      "source": [
        "model."
      ],
      "execution_count": 0,
      "outputs": []
    }
  ]
}